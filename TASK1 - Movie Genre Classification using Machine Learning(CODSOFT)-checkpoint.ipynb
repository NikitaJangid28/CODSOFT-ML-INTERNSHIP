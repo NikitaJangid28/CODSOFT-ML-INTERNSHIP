{
 "cells": [
  {
   "cell_type": "markdown",
   "id": "2a1da77e",
   "metadata": {},
   "source": [
    "# MOVIE GENRE CLASSIFICATION"
   ]
  },
  {
   "cell_type": "code",
   "execution_count": 1,
   "id": "134feb7d",
   "metadata": {},
   "outputs": [],
   "source": [
    "import numpy as np\n",
    "import pandas as pd\n",
    "import re\n",
    "import matplotlib.pyplot as plt\n",
    "import seaborn as sns\n",
    "from sklearn.feature_extraction.text import TfidfVectorizer\n",
    "from sklearn.model_selection import KFold, cross_val_score, GridSearchCV\n",
    "from sklearn.model_selection import train_test_split\n",
    "from sklearn.svm import SVC\n",
    "from sklearn.metrics import accuracy_score, classification_report"
   ]
  },
  {
   "cell_type": "code",
   "execution_count": 2,
   "id": "821c884d",
   "metadata": {},
   "outputs": [
    {
     "data": {
      "text/html": [
       "<div>\n",
       "<style scoped>\n",
       "    .dataframe tbody tr th:only-of-type {\n",
       "        vertical-align: middle;\n",
       "    }\n",
       "\n",
       "    .dataframe tbody tr th {\n",
       "        vertical-align: top;\n",
       "    }\n",
       "\n",
       "    .dataframe thead th {\n",
       "        text-align: right;\n",
       "    }\n",
       "</style>\n",
       "<table border=\"1\" class=\"dataframe\">\n",
       "  <thead>\n",
       "    <tr style=\"text-align: right;\">\n",
       "      <th></th>\n",
       "      <th>ID</th>\n",
       "      <th>TITLE</th>\n",
       "      <th>GENRE</th>\n",
       "      <th>DESCRIPTION</th>\n",
       "    </tr>\n",
       "  </thead>\n",
       "  <tbody>\n",
       "    <tr>\n",
       "      <th>0</th>\n",
       "      <td>1</td>\n",
       "      <td>Oscar et la dame rose (2009)</td>\n",
       "      <td>drama</td>\n",
       "      <td>Listening in to a conversation between his do...</td>\n",
       "    </tr>\n",
       "    <tr>\n",
       "      <th>1</th>\n",
       "      <td>2</td>\n",
       "      <td>Cupid (1997)</td>\n",
       "      <td>thriller</td>\n",
       "      <td>A brother and sister with a past incestuous r...</td>\n",
       "    </tr>\n",
       "    <tr>\n",
       "      <th>2</th>\n",
       "      <td>3</td>\n",
       "      <td>Young, Wild and Wonderful (1980)</td>\n",
       "      <td>adult</td>\n",
       "      <td>As the bus empties the students for their fie...</td>\n",
       "    </tr>\n",
       "    <tr>\n",
       "      <th>3</th>\n",
       "      <td>4</td>\n",
       "      <td>The Secret Sin (1915)</td>\n",
       "      <td>drama</td>\n",
       "      <td>To help their unemployed father make ends mee...</td>\n",
       "    </tr>\n",
       "    <tr>\n",
       "      <th>4</th>\n",
       "      <td>5</td>\n",
       "      <td>The Unrecovered (2007)</td>\n",
       "      <td>drama</td>\n",
       "      <td>The film's title refers not only to the un-re...</td>\n",
       "    </tr>\n",
       "    <tr>\n",
       "      <th>5</th>\n",
       "      <td>6</td>\n",
       "      <td>Quality Control (2011)</td>\n",
       "      <td>documentary</td>\n",
       "      <td>Quality Control consists of a series of 16mm ...</td>\n",
       "    </tr>\n",
       "    <tr>\n",
       "      <th>6</th>\n",
       "      <td>7</td>\n",
       "      <td>\"Pink Slip\" (2009)</td>\n",
       "      <td>comedy</td>\n",
       "      <td>In tough economic times Max and Joey have all...</td>\n",
       "    </tr>\n",
       "    <tr>\n",
       "      <th>7</th>\n",
       "      <td>8</td>\n",
       "      <td>One Step Away (1985)</td>\n",
       "      <td>crime</td>\n",
       "      <td>Ron Petrie (Keanu Reeves) is a troubled teen ...</td>\n",
       "    </tr>\n",
       "    <tr>\n",
       "      <th>8</th>\n",
       "      <td>9</td>\n",
       "      <td>\"Desperate Hours\" (2016)</td>\n",
       "      <td>reality-tv</td>\n",
       "      <td>A sudden calamitous event, causing great loss...</td>\n",
       "    </tr>\n",
       "    <tr>\n",
       "      <th>9</th>\n",
       "      <td>10</td>\n",
       "      <td>Spirits (2014/I)</td>\n",
       "      <td>horror</td>\n",
       "      <td>Four high school students embark on a terrify...</td>\n",
       "    </tr>\n",
       "  </tbody>\n",
       "</table>\n",
       "</div>"
      ],
      "text/plain": [
       "   ID                               TITLE          GENRE  \\\n",
       "0   1       Oscar et la dame rose (2009)          drama    \n",
       "1   2                       Cupid (1997)       thriller    \n",
       "2   3   Young, Wild and Wonderful (1980)          adult    \n",
       "3   4              The Secret Sin (1915)          drama    \n",
       "4   5             The Unrecovered (2007)          drama    \n",
       "5   6             Quality Control (2011)    documentary    \n",
       "6   7                 \"Pink Slip\" (2009)         comedy    \n",
       "7   8               One Step Away (1985)          crime    \n",
       "8   9           \"Desperate Hours\" (2016)     reality-tv    \n",
       "9  10                   Spirits (2014/I)         horror    \n",
       "\n",
       "                                         DESCRIPTION  \n",
       "0   Listening in to a conversation between his do...  \n",
       "1   A brother and sister with a past incestuous r...  \n",
       "2   As the bus empties the students for their fie...  \n",
       "3   To help their unemployed father make ends mee...  \n",
       "4   The film's title refers not only to the un-re...  \n",
       "5   Quality Control consists of a series of 16mm ...  \n",
       "6   In tough economic times Max and Joey have all...  \n",
       "7   Ron Petrie (Keanu Reeves) is a troubled teen ...  \n",
       "8   A sudden calamitous event, causing great loss...  \n",
       "9   Four high school students embark on a terrify...  "
      ]
     },
     "execution_count": 2,
     "metadata": {},
     "output_type": "execute_result"
    }
   ],
   "source": [
    "train_data=pd.read_csv(\"train_data.txt\",sep=':::', names=['ID','TITLE','GENRE','DESCRIPTION'], engine='python' )\n",
    "train_data.head(10)      "
   ]
  },
  {
   "cell_type": "code",
   "execution_count": 3,
   "id": "e5efba57",
   "metadata": {},
   "outputs": [
    {
     "data": {
      "text/html": [
       "<div>\n",
       "<style scoped>\n",
       "    .dataframe tbody tr th:only-of-type {\n",
       "        vertical-align: middle;\n",
       "    }\n",
       "\n",
       "    .dataframe tbody tr th {\n",
       "        vertical-align: top;\n",
       "    }\n",
       "\n",
       "    .dataframe thead th {\n",
       "        text-align: right;\n",
       "    }\n",
       "</style>\n",
       "<table border=\"1\" class=\"dataframe\">\n",
       "  <thead>\n",
       "    <tr style=\"text-align: right;\">\n",
       "      <th></th>\n",
       "      <th>ID</th>\n",
       "      <th>TITLE</th>\n",
       "      <th>GENRE</th>\n",
       "      <th>DESCRIPTION</th>\n",
       "    </tr>\n",
       "  </thead>\n",
       "  <tbody>\n",
       "    <tr>\n",
       "      <th>54204</th>\n",
       "      <td>54205</td>\n",
       "      <td>Pogrindis.NET (2013)</td>\n",
       "      <td>short</td>\n",
       "      <td>Young looser filmmaker tries to produce a fil...</td>\n",
       "    </tr>\n",
       "    <tr>\n",
       "      <th>54205</th>\n",
       "      <td>54206</td>\n",
       "      <td>Counting Sheep (2004)</td>\n",
       "      <td>documentary</td>\n",
       "      <td>Bighorn sheep once roamed the Sierra Nevada i...</td>\n",
       "    </tr>\n",
       "    <tr>\n",
       "      <th>54206</th>\n",
       "      <td>54207</td>\n",
       "      <td>The Devin Townsend Project: By a Thread - Liv...</td>\n",
       "      <td>music</td>\n",
       "      <td>In November 2011, The Devin Townsend Project ...</td>\n",
       "    </tr>\n",
       "    <tr>\n",
       "      <th>54207</th>\n",
       "      <td>54208</td>\n",
       "      <td>Kaçamak (1988)</td>\n",
       "      <td>drama</td>\n",
       "      <td>A man and woman meet during the identificatio...</td>\n",
       "    </tr>\n",
       "    <tr>\n",
       "      <th>54208</th>\n",
       "      <td>54209</td>\n",
       "      <td>Izpiti po nikoe vreme (1974)</td>\n",
       "      <td>family</td>\n",
       "      <td>First story, \"Temptation\": Two kids find a wa...</td>\n",
       "    </tr>\n",
       "    <tr>\n",
       "      <th>54209</th>\n",
       "      <td>54210</td>\n",
       "      <td>\"Bonino\" (1953)</td>\n",
       "      <td>comedy</td>\n",
       "      <td>This short-lived NBC live sitcom centered on ...</td>\n",
       "    </tr>\n",
       "    <tr>\n",
       "      <th>54210</th>\n",
       "      <td>54211</td>\n",
       "      <td>Dead Girls Don't Cry (????)</td>\n",
       "      <td>horror</td>\n",
       "      <td>The NEXT Generation of EXPLOITATION. The sist...</td>\n",
       "    </tr>\n",
       "    <tr>\n",
       "      <th>54211</th>\n",
       "      <td>54212</td>\n",
       "      <td>Ronald Goedemondt: Ze bestaan echt (2008)</td>\n",
       "      <td>documentary</td>\n",
       "      <td>Ze bestaan echt, is a stand-up comedy about g...</td>\n",
       "    </tr>\n",
       "    <tr>\n",
       "      <th>54212</th>\n",
       "      <td>54213</td>\n",
       "      <td>Make Your Own Bed (1944)</td>\n",
       "      <td>comedy</td>\n",
       "      <td>Walter and Vivian live in the country and hav...</td>\n",
       "    </tr>\n",
       "    <tr>\n",
       "      <th>54213</th>\n",
       "      <td>54214</td>\n",
       "      <td>Nature's Fury: Storm of the Century (2006)</td>\n",
       "      <td>history</td>\n",
       "      <td>On Labor Day Weekend, 1935, the most intense ...</td>\n",
       "    </tr>\n",
       "  </tbody>\n",
       "</table>\n",
       "</div>"
      ],
      "text/plain": [
       "          ID                                              TITLE  \\\n",
       "54204  54205                              Pogrindis.NET (2013)    \n",
       "54205  54206                             Counting Sheep (2004)    \n",
       "54206  54207   The Devin Townsend Project: By a Thread - Liv...   \n",
       "54207  54208                                    Kaçamak (1988)    \n",
       "54208  54209                      Izpiti po nikoe vreme (1974)    \n",
       "54209  54210                                   \"Bonino\" (1953)    \n",
       "54210  54211                       Dead Girls Don't Cry (????)    \n",
       "54211  54212         Ronald Goedemondt: Ze bestaan echt (2008)    \n",
       "54212  54213                          Make Your Own Bed (1944)    \n",
       "54213  54214        Nature's Fury: Storm of the Century (2006)    \n",
       "\n",
       "               GENRE                                        DESCRIPTION  \n",
       "54204         short    Young looser filmmaker tries to produce a fil...  \n",
       "54205   documentary    Bighorn sheep once roamed the Sierra Nevada i...  \n",
       "54206         music    In November 2011, The Devin Townsend Project ...  \n",
       "54207         drama    A man and woman meet during the identificatio...  \n",
       "54208        family    First story, \"Temptation\": Two kids find a wa...  \n",
       "54209        comedy    This short-lived NBC live sitcom centered on ...  \n",
       "54210        horror    The NEXT Generation of EXPLOITATION. The sist...  \n",
       "54211   documentary    Ze bestaan echt, is a stand-up comedy about g...  \n",
       "54212        comedy    Walter and Vivian live in the country and hav...  \n",
       "54213       history    On Labor Day Weekend, 1935, the most intense ...  "
      ]
     },
     "execution_count": 3,
     "metadata": {},
     "output_type": "execute_result"
    }
   ],
   "source": [
    "train_data.tail(10)"
   ]
  },
  {
   "cell_type": "code",
   "execution_count": 4,
   "id": "b5ccaf48",
   "metadata": {},
   "outputs": [
    {
     "name": "stdout",
     "output_type": "stream",
     "text": [
      "(54214, 4)\n"
     ]
    }
   ],
   "source": [
    "print(train_data.shape)"
   ]
  },
  {
   "cell_type": "code",
   "execution_count": 5,
   "id": "0bf0b049",
   "metadata": {},
   "outputs": [
    {
     "name": "stdout",
     "output_type": "stream",
     "text": [
      "                 ID\n",
      "count  54214.000000\n",
      "mean   27107.500000\n",
      "std    15650.378084\n",
      "min        1.000000\n",
      "25%    13554.250000\n",
      "50%    27107.500000\n",
      "75%    40660.750000\n",
      "max    54214.000000\n"
     ]
    }
   ],
   "source": [
    "print(train_data.describe())"
   ]
  },
  {
   "cell_type": "code",
   "execution_count": 6,
   "id": "b2732329",
   "metadata": {},
   "outputs": [
    {
     "data": {
      "text/html": [
       "<div>\n",
       "<style scoped>\n",
       "    .dataframe tbody tr th:only-of-type {\n",
       "        vertical-align: middle;\n",
       "    }\n",
       "\n",
       "    .dataframe tbody tr th {\n",
       "        vertical-align: top;\n",
       "    }\n",
       "\n",
       "    .dataframe thead th {\n",
       "        text-align: right;\n",
       "    }\n",
       "</style>\n",
       "<table border=\"1\" class=\"dataframe\">\n",
       "  <thead>\n",
       "    <tr style=\"text-align: right;\">\n",
       "      <th></th>\n",
       "      <th>count</th>\n",
       "      <th>mean</th>\n",
       "      <th>std</th>\n",
       "      <th>min</th>\n",
       "      <th>25%</th>\n",
       "      <th>50%</th>\n",
       "      <th>75%</th>\n",
       "      <th>max</th>\n",
       "    </tr>\n",
       "  </thead>\n",
       "  <tbody>\n",
       "    <tr>\n",
       "      <th>ID</th>\n",
       "      <td>54214.0</td>\n",
       "      <td>27107.5</td>\n",
       "      <td>15650.378084</td>\n",
       "      <td>1.0</td>\n",
       "      <td>13554.25</td>\n",
       "      <td>27107.5</td>\n",
       "      <td>40660.75</td>\n",
       "      <td>54214.0</td>\n",
       "    </tr>\n",
       "  </tbody>\n",
       "</table>\n",
       "</div>"
      ],
      "text/plain": [
       "      count     mean           std  min       25%      50%       75%      max\n",
       "ID  54214.0  27107.5  15650.378084  1.0  13554.25  27107.5  40660.75  54214.0"
      ]
     },
     "execution_count": 6,
     "metadata": {},
     "output_type": "execute_result"
    }
   ],
   "source": [
    "train_data.describe().T"
   ]
  },
  {
   "cell_type": "code",
   "execution_count": 7,
   "id": "36fe8256",
   "metadata": {},
   "outputs": [
    {
     "name": "stdout",
     "output_type": "stream",
     "text": [
      "<class 'pandas.core.frame.DataFrame'>\n",
      "RangeIndex: 54214 entries, 0 to 54213\n",
      "Data columns (total 4 columns):\n",
      " #   Column       Non-Null Count  Dtype \n",
      "---  ------       --------------  ----- \n",
      " 0   ID           54214 non-null  int64 \n",
      " 1   TITLE        54214 non-null  object\n",
      " 2   GENRE        54214 non-null  object\n",
      " 3   DESCRIPTION  54214 non-null  object\n",
      "dtypes: int64(1), object(3)\n",
      "memory usage: 1.7+ MB\n",
      "None\n"
     ]
    }
   ],
   "source": [
    "print(train_data.info())"
   ]
  },
  {
   "cell_type": "code",
   "execution_count": 8,
   "id": "2684e3b3",
   "metadata": {},
   "outputs": [
    {
     "data": {
      "text/plain": [
       "ID             0\n",
       "TITLE          0\n",
       "GENRE          0\n",
       "DESCRIPTION    0\n",
       "dtype: int64"
      ]
     },
     "execution_count": 8,
     "metadata": {},
     "output_type": "execute_result"
    }
   ],
   "source": [
    "train_data.isnull().sum()"
   ]
  },
  {
   "cell_type": "code",
   "execution_count": 9,
   "id": "a682f2ea",
   "metadata": {},
   "outputs": [
    {
     "data": {
      "text/html": [
       "<div>\n",
       "<style scoped>\n",
       "    .dataframe tbody tr th:only-of-type {\n",
       "        vertical-align: middle;\n",
       "    }\n",
       "\n",
       "    .dataframe tbody tr th {\n",
       "        vertical-align: top;\n",
       "    }\n",
       "\n",
       "    .dataframe thead th {\n",
       "        text-align: right;\n",
       "    }\n",
       "</style>\n",
       "<table border=\"1\" class=\"dataframe\">\n",
       "  <thead>\n",
       "    <tr style=\"text-align: right;\">\n",
       "      <th></th>\n",
       "      <th>ID</th>\n",
       "      <th>TITLE</th>\n",
       "      <th>DESCRIPTION</th>\n",
       "    </tr>\n",
       "  </thead>\n",
       "  <tbody>\n",
       "    <tr>\n",
       "      <th>0</th>\n",
       "      <td>1</td>\n",
       "      <td>Edgar's Lunch (1998)</td>\n",
       "      <td>L.R. Brane loves his life - his car, his apar...</td>\n",
       "    </tr>\n",
       "    <tr>\n",
       "      <th>1</th>\n",
       "      <td>2</td>\n",
       "      <td>La guerra de papá (1977)</td>\n",
       "      <td>Spain, March 1964: Quico is a very naughty ch...</td>\n",
       "    </tr>\n",
       "    <tr>\n",
       "      <th>2</th>\n",
       "      <td>3</td>\n",
       "      <td>Off the Beaten Track (2010)</td>\n",
       "      <td>One year in the life of Albin and his family ...</td>\n",
       "    </tr>\n",
       "    <tr>\n",
       "      <th>3</th>\n",
       "      <td>4</td>\n",
       "      <td>Meu Amigo Hindu (2015)</td>\n",
       "      <td>His father has died, he hasn't spoken with hi...</td>\n",
       "    </tr>\n",
       "    <tr>\n",
       "      <th>4</th>\n",
       "      <td>5</td>\n",
       "      <td>Er nu zhai (1955)</td>\n",
       "      <td>Before he was known internationally as a mart...</td>\n",
       "    </tr>\n",
       "    <tr>\n",
       "      <th>5</th>\n",
       "      <td>6</td>\n",
       "      <td>Riddle Room (2016)</td>\n",
       "      <td>Emily Burns is being held captive in a room w...</td>\n",
       "    </tr>\n",
       "    <tr>\n",
       "      <th>6</th>\n",
       "      <td>7</td>\n",
       "      <td>L'amica (1969)</td>\n",
       "      <td>The beautiful but neglected wife of a brillia...</td>\n",
       "    </tr>\n",
       "    <tr>\n",
       "      <th>7</th>\n",
       "      <td>8</td>\n",
       "      <td>Ina Mina Dika (1989)</td>\n",
       "      <td>Vasu Inamdar (Ina) suffers from a disorder wh...</td>\n",
       "    </tr>\n",
       "    <tr>\n",
       "      <th>8</th>\n",
       "      <td>9</td>\n",
       "      <td>Equinox Special: Britain's Tornados (2005)</td>\n",
       "      <td>An insight into the tornados that hit Kensal ...</td>\n",
       "    </tr>\n",
       "    <tr>\n",
       "      <th>9</th>\n",
       "      <td>10</td>\n",
       "      <td>Press (2011)</td>\n",
       "      <td>Press is a story of young people overwhelmed ...</td>\n",
       "    </tr>\n",
       "  </tbody>\n",
       "</table>\n",
       "</div>"
      ],
      "text/plain": [
       "   ID                                         TITLE  \\\n",
       "0   1                         Edgar's Lunch (1998)    \n",
       "1   2                     La guerra de papá (1977)    \n",
       "2   3                  Off the Beaten Track (2010)    \n",
       "3   4                       Meu Amigo Hindu (2015)    \n",
       "4   5                            Er nu zhai (1955)    \n",
       "5   6                           Riddle Room (2016)    \n",
       "6   7                               L'amica (1969)    \n",
       "7   8                         Ina Mina Dika (1989)    \n",
       "8   9   Equinox Special: Britain's Tornados (2005)    \n",
       "9  10                                 Press (2011)    \n",
       "\n",
       "                                         DESCRIPTION  \n",
       "0   L.R. Brane loves his life - his car, his apar...  \n",
       "1   Spain, March 1964: Quico is a very naughty ch...  \n",
       "2   One year in the life of Albin and his family ...  \n",
       "3   His father has died, he hasn't spoken with hi...  \n",
       "4   Before he was known internationally as a mart...  \n",
       "5   Emily Burns is being held captive in a room w...  \n",
       "6   The beautiful but neglected wife of a brillia...  \n",
       "7   Vasu Inamdar (Ina) suffers from a disorder wh...  \n",
       "8   An insight into the tornados that hit Kensal ...  \n",
       "9   Press is a story of young people overwhelmed ...  "
      ]
     },
     "execution_count": 9,
     "metadata": {},
     "output_type": "execute_result"
    }
   ],
   "source": [
    "test_data=pd.read_csv(\"test_data.txt\",sep=':::', names=['ID','TITLE','DESCRIPTION'], engine='python')\n",
    "test_data.head(10)"
   ]
  },
  {
   "cell_type": "code",
   "execution_count": 10,
   "id": "978724e0",
   "metadata": {},
   "outputs": [
    {
     "data": {
      "text/html": [
       "<div>\n",
       "<style scoped>\n",
       "    .dataframe tbody tr th:only-of-type {\n",
       "        vertical-align: middle;\n",
       "    }\n",
       "\n",
       "    .dataframe tbody tr th {\n",
       "        vertical-align: top;\n",
       "    }\n",
       "\n",
       "    .dataframe thead th {\n",
       "        text-align: right;\n",
       "    }\n",
       "</style>\n",
       "<table border=\"1\" class=\"dataframe\">\n",
       "  <thead>\n",
       "    <tr style=\"text-align: right;\">\n",
       "      <th></th>\n",
       "      <th>ID</th>\n",
       "      <th>TITLE</th>\n",
       "      <th>DESCRIPTION</th>\n",
       "    </tr>\n",
       "  </thead>\n",
       "  <tbody>\n",
       "    <tr>\n",
       "      <th>54190</th>\n",
       "      <td>54191</td>\n",
       "      <td>\"House Invaders\" (1998)</td>\n",
       "      <td>House Invaders features a different home each...</td>\n",
       "    </tr>\n",
       "    <tr>\n",
       "      <th>54191</th>\n",
       "      <td>54192</td>\n",
       "      <td>Eduardo Ducay. El cine que siempre estuvo ahí...</td>\n",
       "      <td>Visual documentary about the figure of produc...</td>\n",
       "    </tr>\n",
       "    <tr>\n",
       "      <th>54192</th>\n",
       "      <td>54193</td>\n",
       "      <td>Dinosaurs Decoded (2009)</td>\n",
       "      <td>National Geographic reviews Jack Horner's res...</td>\n",
       "    </tr>\n",
       "    <tr>\n",
       "      <th>54193</th>\n",
       "      <td>54194</td>\n",
       "      <td>The World of Art Presents: Drawing for Anyone...</td>\n",
       "      <td>Jump right in to drawing animals along with C...</td>\n",
       "    </tr>\n",
       "    <tr>\n",
       "      <th>54194</th>\n",
       "      <td>54195</td>\n",
       "      <td>Slender Existence (2000)</td>\n",
       "      <td>Slender Existence is the first-ever personal ...</td>\n",
       "    </tr>\n",
       "    <tr>\n",
       "      <th>54195</th>\n",
       "      <td>54196</td>\n",
       "      <td>\"Tales of Light &amp; Dark\" (2013)</td>\n",
       "      <td>Covering multiple genres, Tales of Light &amp; Da...</td>\n",
       "    </tr>\n",
       "    <tr>\n",
       "      <th>54196</th>\n",
       "      <td>54197</td>\n",
       "      <td>Der letzte Mohikaner (1965)</td>\n",
       "      <td>As Alice and Cora Munro attempt to find their...</td>\n",
       "    </tr>\n",
       "    <tr>\n",
       "      <th>54197</th>\n",
       "      <td>54198</td>\n",
       "      <td>Oliver Twink (2007)</td>\n",
       "      <td>A movie 169 years in the making. Oliver Twist...</td>\n",
       "    </tr>\n",
       "    <tr>\n",
       "      <th>54198</th>\n",
       "      <td>54199</td>\n",
       "      <td>Slipstream (1973)</td>\n",
       "      <td>Popular, but mysterious rock D.J Mike Mallard...</td>\n",
       "    </tr>\n",
       "    <tr>\n",
       "      <th>54199</th>\n",
       "      <td>54200</td>\n",
       "      <td>Curitiba Zero Grau (2010)</td>\n",
       "      <td>Curitiba is a city in movement, with rhythms ...</td>\n",
       "    </tr>\n",
       "  </tbody>\n",
       "</table>\n",
       "</div>"
      ],
      "text/plain": [
       "          ID                                              TITLE  \\\n",
       "54190  54191                           \"House Invaders\" (1998)    \n",
       "54191  54192   Eduardo Ducay. El cine que siempre estuvo ahí...   \n",
       "54192  54193                          Dinosaurs Decoded (2009)    \n",
       "54193  54194   The World of Art Presents: Drawing for Anyone...   \n",
       "54194  54195                          Slender Existence (2000)    \n",
       "54195  54196                    \"Tales of Light & Dark\" (2013)    \n",
       "54196  54197                       Der letzte Mohikaner (1965)    \n",
       "54197  54198                               Oliver Twink (2007)    \n",
       "54198  54199                                 Slipstream (1973)    \n",
       "54199  54200                         Curitiba Zero Grau (2010)    \n",
       "\n",
       "                                             DESCRIPTION  \n",
       "54190   House Invaders features a different home each...  \n",
       "54191   Visual documentary about the figure of produc...  \n",
       "54192   National Geographic reviews Jack Horner's res...  \n",
       "54193   Jump right in to drawing animals along with C...  \n",
       "54194   Slender Existence is the first-ever personal ...  \n",
       "54195   Covering multiple genres, Tales of Light & Da...  \n",
       "54196   As Alice and Cora Munro attempt to find their...  \n",
       "54197   A movie 169 years in the making. Oliver Twist...  \n",
       "54198   Popular, but mysterious rock D.J Mike Mallard...  \n",
       "54199   Curitiba is a city in movement, with rhythms ...  "
      ]
     },
     "execution_count": 10,
     "metadata": {},
     "output_type": "execute_result"
    }
   ],
   "source": [
    "test_data.tail(10)"
   ]
  },
  {
   "cell_type": "code",
   "execution_count": 11,
   "id": "4727a3a0",
   "metadata": {},
   "outputs": [
    {
     "data": {
      "text/plain": [
       "(54200, 3)"
      ]
     },
     "execution_count": 11,
     "metadata": {},
     "output_type": "execute_result"
    }
   ],
   "source": [
    "test_data.shape"
   ]
  },
  {
   "cell_type": "code",
   "execution_count": 12,
   "id": "6c476d2f",
   "metadata": {},
   "outputs": [
    {
     "name": "stdout",
     "output_type": "stream",
     "text": [
      "<class 'pandas.core.frame.DataFrame'>\n",
      "RangeIndex: 54200 entries, 0 to 54199\n",
      "Data columns (total 3 columns):\n",
      " #   Column       Non-Null Count  Dtype \n",
      "---  ------       --------------  ----- \n",
      " 0   ID           54200 non-null  int64 \n",
      " 1   TITLE        54200 non-null  object\n",
      " 2   DESCRIPTION  54200 non-null  object\n",
      "dtypes: int64(1), object(2)\n",
      "memory usage: 1.2+ MB\n"
     ]
    }
   ],
   "source": [
    "test_data.info()"
   ]
  },
  {
   "cell_type": "code",
   "execution_count": 13,
   "id": "8e14dd71",
   "metadata": {},
   "outputs": [
    {
     "data": {
      "text/html": [
       "<div>\n",
       "<style scoped>\n",
       "    .dataframe tbody tr th:only-of-type {\n",
       "        vertical-align: middle;\n",
       "    }\n",
       "\n",
       "    .dataframe tbody tr th {\n",
       "        vertical-align: top;\n",
       "    }\n",
       "\n",
       "    .dataframe thead th {\n",
       "        text-align: right;\n",
       "    }\n",
       "</style>\n",
       "<table border=\"1\" class=\"dataframe\">\n",
       "  <thead>\n",
       "    <tr style=\"text-align: right;\">\n",
       "      <th></th>\n",
       "      <th>count</th>\n",
       "      <th>mean</th>\n",
       "      <th>std</th>\n",
       "      <th>min</th>\n",
       "      <th>25%</th>\n",
       "      <th>50%</th>\n",
       "      <th>75%</th>\n",
       "      <th>max</th>\n",
       "    </tr>\n",
       "  </thead>\n",
       "  <tbody>\n",
       "    <tr>\n",
       "      <th>ID</th>\n",
       "      <td>54200.0</td>\n",
       "      <td>27100.5</td>\n",
       "      <td>15646.336632</td>\n",
       "      <td>1.0</td>\n",
       "      <td>13550.75</td>\n",
       "      <td>27100.5</td>\n",
       "      <td>40650.25</td>\n",
       "      <td>54200.0</td>\n",
       "    </tr>\n",
       "  </tbody>\n",
       "</table>\n",
       "</div>"
      ],
      "text/plain": [
       "      count     mean           std  min       25%      50%       75%      max\n",
       "ID  54200.0  27100.5  15646.336632  1.0  13550.75  27100.5  40650.25  54200.0"
      ]
     },
     "execution_count": 13,
     "metadata": {},
     "output_type": "execute_result"
    }
   ],
   "source": [
    "test_data.describe().T"
   ]
  },
  {
   "cell_type": "code",
   "execution_count": 14,
   "id": "1d9cc478",
   "metadata": {},
   "outputs": [
    {
     "data": {
      "text/plain": [
       "ID             0\n",
       "TITLE          0\n",
       "DESCRIPTION    0\n",
       "dtype: int64"
      ]
     },
     "execution_count": 14,
     "metadata": {},
     "output_type": "execute_result"
    }
   ],
   "source": [
    "test_data.isnull().sum()"
   ]
  },
  {
   "cell_type": "code",
   "execution_count": 15,
   "id": "e72d99cd",
   "metadata": {},
   "outputs": [],
   "source": [
    "combined_data = pd.concat([train_data, test_data], ignore_index=True)\n",
    "data = combined_data"
   ]
  },
  {
   "cell_type": "code",
   "execution_count": 16,
   "id": "c70a7944",
   "metadata": {},
   "outputs": [
    {
     "data": {
      "text/html": [
       "<div>\n",
       "<style scoped>\n",
       "    .dataframe tbody tr th:only-of-type {\n",
       "        vertical-align: middle;\n",
       "    }\n",
       "\n",
       "    .dataframe tbody tr th {\n",
       "        vertical-align: top;\n",
       "    }\n",
       "\n",
       "    .dataframe thead th {\n",
       "        text-align: right;\n",
       "    }\n",
       "</style>\n",
       "<table border=\"1\" class=\"dataframe\">\n",
       "  <thead>\n",
       "    <tr style=\"text-align: right;\">\n",
       "      <th></th>\n",
       "      <th>ID</th>\n",
       "      <th>TITLE</th>\n",
       "      <th>GENRE</th>\n",
       "      <th>DESCRIPTION</th>\n",
       "    </tr>\n",
       "  </thead>\n",
       "  <tbody>\n",
       "    <tr>\n",
       "      <th>0</th>\n",
       "      <td>1</td>\n",
       "      <td>Oscar et la dame rose (2009)</td>\n",
       "      <td>drama</td>\n",
       "      <td>Listening in to a conversation between his do...</td>\n",
       "    </tr>\n",
       "    <tr>\n",
       "      <th>1</th>\n",
       "      <td>2</td>\n",
       "      <td>Cupid (1997)</td>\n",
       "      <td>thriller</td>\n",
       "      <td>A brother and sister with a past incestuous r...</td>\n",
       "    </tr>\n",
       "    <tr>\n",
       "      <th>2</th>\n",
       "      <td>3</td>\n",
       "      <td>Young, Wild and Wonderful (1980)</td>\n",
       "      <td>adult</td>\n",
       "      <td>As the bus empties the students for their fie...</td>\n",
       "    </tr>\n",
       "    <tr>\n",
       "      <th>3</th>\n",
       "      <td>4</td>\n",
       "      <td>The Secret Sin (1915)</td>\n",
       "      <td>drama</td>\n",
       "      <td>To help their unemployed father make ends mee...</td>\n",
       "    </tr>\n",
       "    <tr>\n",
       "      <th>4</th>\n",
       "      <td>5</td>\n",
       "      <td>The Unrecovered (2007)</td>\n",
       "      <td>drama</td>\n",
       "      <td>The film's title refers not only to the un-re...</td>\n",
       "    </tr>\n",
       "  </tbody>\n",
       "</table>\n",
       "</div>"
      ],
      "text/plain": [
       "   ID                               TITLE       GENRE  \\\n",
       "0   1       Oscar et la dame rose (2009)       drama    \n",
       "1   2                       Cupid (1997)    thriller    \n",
       "2   3   Young, Wild and Wonderful (1980)       adult    \n",
       "3   4              The Secret Sin (1915)       drama    \n",
       "4   5             The Unrecovered (2007)       drama    \n",
       "\n",
       "                                         DESCRIPTION  \n",
       "0   Listening in to a conversation between his do...  \n",
       "1   A brother and sister with a past incestuous r...  \n",
       "2   As the bus empties the students for their fie...  \n",
       "3   To help their unemployed father make ends mee...  \n",
       "4   The film's title refers not only to the un-re...  "
      ]
     },
     "execution_count": 16,
     "metadata": {},
     "output_type": "execute_result"
    }
   ],
   "source": [
    "data.head(5)"
   ]
  },
  {
   "cell_type": "code",
   "execution_count": 17,
   "id": "0cc66c32",
   "metadata": {},
   "outputs": [
    {
     "data": {
      "text/plain": [
       "(108414, 4)"
      ]
     },
     "execution_count": 17,
     "metadata": {},
     "output_type": "execute_result"
    }
   ],
   "source": [
    "data.shape"
   ]
  },
  {
   "cell_type": "code",
   "execution_count": 18,
   "id": "2dab5d9a",
   "metadata": {},
   "outputs": [
    {
     "data": {
      "text/plain": [
       "ID                 0\n",
       "TITLE              0\n",
       "GENRE          54200\n",
       "DESCRIPTION        0\n",
       "dtype: int64"
      ]
     },
     "execution_count": 18,
     "metadata": {},
     "output_type": "execute_result"
    }
   ],
   "source": [
    "data.isnull().sum()"
   ]
  },
  {
   "cell_type": "code",
   "execution_count": 19,
   "id": "3669223d",
   "metadata": {},
   "outputs": [
    {
     "data": {
      "text/plain": [
       "54200"
      ]
     },
     "execution_count": 19,
     "metadata": {},
     "output_type": "execute_result"
    }
   ],
   "source": [
    "data.GENRE.isnull().sum()"
   ]
  },
  {
   "cell_type": "code",
   "execution_count": 20,
   "id": "b65461fc",
   "metadata": {},
   "outputs": [],
   "source": [
    "data.dropna(axis=0,how='any', subset=['GENRE'], inplace=True)"
   ]
  },
  {
   "cell_type": "code",
   "execution_count": 21,
   "id": "a5be096d",
   "metadata": {},
   "outputs": [
    {
     "data": {
      "text/plain": [
       "ID             0\n",
       "TITLE          0\n",
       "GENRE          0\n",
       "DESCRIPTION    0\n",
       "dtype: int64"
      ]
     },
     "execution_count": 21,
     "metadata": {},
     "output_type": "execute_result"
    }
   ],
   "source": [
    "data.isnull().sum()"
   ]
  },
  {
   "cell_type": "code",
   "execution_count": 22,
   "id": "711a2cba",
   "metadata": {},
   "outputs": [
    {
     "data": {
      "text/html": [
       "<div>\n",
       "<style scoped>\n",
       "    .dataframe tbody tr th:only-of-type {\n",
       "        vertical-align: middle;\n",
       "    }\n",
       "\n",
       "    .dataframe tbody tr th {\n",
       "        vertical-align: top;\n",
       "    }\n",
       "\n",
       "    .dataframe thead th {\n",
       "        text-align: right;\n",
       "    }\n",
       "</style>\n",
       "<table border=\"1\" class=\"dataframe\">\n",
       "  <thead>\n",
       "    <tr style=\"text-align: right;\">\n",
       "      <th></th>\n",
       "      <th>ID</th>\n",
       "      <th>TITLE</th>\n",
       "      <th>GENRE</th>\n",
       "      <th>DESCRIPTION</th>\n",
       "    </tr>\n",
       "  </thead>\n",
       "  <tbody>\n",
       "    <tr>\n",
       "      <th>0</th>\n",
       "      <td>1</td>\n",
       "      <td>Oscar et la dame rose (2009)</td>\n",
       "      <td>drama</td>\n",
       "      <td>Listening in to a conversation between his do...</td>\n",
       "    </tr>\n",
       "    <tr>\n",
       "      <th>1</th>\n",
       "      <td>2</td>\n",
       "      <td>Cupid (1997)</td>\n",
       "      <td>thriller</td>\n",
       "      <td>A brother and sister with a past incestuous r...</td>\n",
       "    </tr>\n",
       "    <tr>\n",
       "      <th>2</th>\n",
       "      <td>3</td>\n",
       "      <td>Young, Wild and Wonderful (1980)</td>\n",
       "      <td>adult</td>\n",
       "      <td>As the bus empties the students for their fie...</td>\n",
       "    </tr>\n",
       "    <tr>\n",
       "      <th>3</th>\n",
       "      <td>4</td>\n",
       "      <td>The Secret Sin (1915)</td>\n",
       "      <td>drama</td>\n",
       "      <td>To help their unemployed father make ends mee...</td>\n",
       "    </tr>\n",
       "    <tr>\n",
       "      <th>4</th>\n",
       "      <td>5</td>\n",
       "      <td>The Unrecovered (2007)</td>\n",
       "      <td>drama</td>\n",
       "      <td>The film's title refers not only to the un-re...</td>\n",
       "    </tr>\n",
       "  </tbody>\n",
       "</table>\n",
       "</div>"
      ],
      "text/plain": [
       "   ID                               TITLE       GENRE  \\\n",
       "0   1       Oscar et la dame rose (2009)       drama    \n",
       "1   2                       Cupid (1997)    thriller    \n",
       "2   3   Young, Wild and Wonderful (1980)       adult    \n",
       "3   4              The Secret Sin (1915)       drama    \n",
       "4   5             The Unrecovered (2007)       drama    \n",
       "\n",
       "                                         DESCRIPTION  \n",
       "0   Listening in to a conversation between his do...  \n",
       "1   A brother and sister with a past incestuous r...  \n",
       "2   As the bus empties the students for their fie...  \n",
       "3   To help their unemployed father make ends mee...  \n",
       "4   The film's title refers not only to the un-re...  "
      ]
     },
     "execution_count": 22,
     "metadata": {},
     "output_type": "execute_result"
    }
   ],
   "source": [
    "data.head()"
   ]
  },
  {
   "cell_type": "markdown",
   "id": "963f3269",
   "metadata": {},
   "source": [
    "# DATA VISUALIZATION "
   ]
  },
  {
   "cell_type": "code",
   "execution_count": 23,
   "id": "44e7f049",
   "metadata": {},
   "outputs": [
    {
     "data": {
      "image/png": "[encoded data removed]",
      "text/plain": [
       "<Figure size 1000x600 with 1 Axes>"
      ]
     },
     "metadata": {},
     "output_type": "display_data"
    }
   ],
   "source": [
    "plt.figure(figsize=(10,6))\n",
    "genre_counts = data.GENRE.value_counts()\n",
    "sns.barplot(x=genre_counts, y=genre_counts.index) \n",
    "plt.show()"
   ]
  },
  {
   "cell_type": "code",
   "execution_count": 24,
   "id": "545bbd2f",
   "metadata": {},
   "outputs": [
    {
     "data": {
      "text/plain": [
       "[' action ',\n",
       " ' adult ',\n",
       " ' adventure ',\n",
       " ' animation ',\n",
       " ' biography ',\n",
       " ' comedy ',\n",
       " ' crime ',\n",
       " ' documentary ',\n",
       " ' drama ',\n",
       " ' family ',\n",
       " ' fantasy ',\n",
       " ' game-show ',\n",
       " ' history ',\n",
       " ' horror ',\n",
       " ' music ',\n",
       " ' musical ',\n",
       " ' mystery ',\n",
       " ' news ',\n",
       " ' reality-tv ',\n",
       " ' romance ',\n",
       " ' sci-fi ',\n",
       " ' short ',\n",
       " ' sport ',\n",
       " ' talk-show ',\n",
       " ' thriller ',\n",
       " ' war ',\n",
       " ' western ']"
      ]
     },
     "execution_count": 24,
     "metadata": {},
     "output_type": "execute_result"
    }
   ],
   "source": [
    "movie_genre = list(data['GENRE'].unique())\n",
    "movie_genre.sort()\n",
    "movie_genre"
   ]
  },
  {
   "cell_type": "code",
   "execution_count": 25,
   "id": "eeabf264",
   "metadata": {},
   "outputs": [
    {
     "data": {
      "text/html": [
       "<div>\n",
       "<style scoped>\n",
       "    .dataframe tbody tr th:only-of-type {\n",
       "        vertical-align: middle;\n",
       "    }\n",
       "\n",
       "    .dataframe tbody tr th {\n",
       "        vertical-align: top;\n",
       "    }\n",
       "\n",
       "    .dataframe thead th {\n",
       "        text-align: right;\n",
       "    }\n",
       "</style>\n",
       "<table border=\"1\" class=\"dataframe\">\n",
       "  <thead>\n",
       "    <tr style=\"text-align: right;\">\n",
       "      <th></th>\n",
       "      <th>ID</th>\n",
       "      <th>TITLE</th>\n",
       "      <th>GENRE</th>\n",
       "      <th>DESCRIPTION</th>\n",
       "      <th>length</th>\n",
       "    </tr>\n",
       "  </thead>\n",
       "  <tbody>\n",
       "    <tr>\n",
       "      <th>0</th>\n",
       "      <td>1</td>\n",
       "      <td>Oscar et la dame rose (2009)</td>\n",
       "      <td>drama</td>\n",
       "      <td>Listening in to a conversation between his do...</td>\n",
       "      <td>546</td>\n",
       "    </tr>\n",
       "    <tr>\n",
       "      <th>1</th>\n",
       "      <td>2</td>\n",
       "      <td>Cupid (1997)</td>\n",
       "      <td>thriller</td>\n",
       "      <td>A brother and sister with a past incestuous r...</td>\n",
       "      <td>184</td>\n",
       "    </tr>\n",
       "    <tr>\n",
       "      <th>2</th>\n",
       "      <td>3</td>\n",
       "      <td>Young, Wild and Wonderful (1980)</td>\n",
       "      <td>adult</td>\n",
       "      <td>As the bus empties the students for their fie...</td>\n",
       "      <td>650</td>\n",
       "    </tr>\n",
       "    <tr>\n",
       "      <th>3</th>\n",
       "      <td>4</td>\n",
       "      <td>The Secret Sin (1915)</td>\n",
       "      <td>drama</td>\n",
       "      <td>To help their unemployed father make ends mee...</td>\n",
       "      <td>1082</td>\n",
       "    </tr>\n",
       "    <tr>\n",
       "      <th>4</th>\n",
       "      <td>5</td>\n",
       "      <td>The Unrecovered (2007)</td>\n",
       "      <td>drama</td>\n",
       "      <td>The film's title refers not only to the un-re...</td>\n",
       "      <td>625</td>\n",
       "    </tr>\n",
       "  </tbody>\n",
       "</table>\n",
       "</div>"
      ],
      "text/plain": [
       "   ID                               TITLE       GENRE  \\\n",
       "0   1       Oscar et la dame rose (2009)       drama    \n",
       "1   2                       Cupid (1997)    thriller    \n",
       "2   3   Young, Wild and Wonderful (1980)       adult    \n",
       "3   4              The Secret Sin (1915)       drama    \n",
       "4   5             The Unrecovered (2007)       drama    \n",
       "\n",
       "                                         DESCRIPTION  length  \n",
       "0   Listening in to a conversation between his do...     546  \n",
       "1   A brother and sister with a past incestuous r...     184  \n",
       "2   As the bus empties the students for their fie...     650  \n",
       "3   To help their unemployed father make ends mee...    1082  \n",
       "4   The film's title refers not only to the un-re...     625  "
      ]
     },
     "execution_count": 25,
     "metadata": {},
     "output_type": "execute_result"
    }
   ],
   "source": [
    "data['length']=data['DESCRIPTION'].apply(len)\n",
    "data.head()"
   ]
  },
  {
   "cell_type": "code",
   "execution_count": 26,
   "id": "f99065d7",
   "metadata": {},
   "outputs": [
    {
     "data": {
      "text/plain": [
       "Text(0.5, 1.0, 'Distribution of Lengths')"
      ]
     },
     "execution_count": 26,
     "metadata": {},
     "output_type": "execute_result"
    },
    {
     "data": {
      "image/png": "[encoded data removed]",
      "text/plain": [
       "<Figure size 800x700 with 1 Axes>"
      ]
     },
     "metadata": {},
     "output_type": "display_data"
    }
   ],
   "source": [
    "plt.figure(figsize=(8, 7))\n",
    "\n",
    "sns.histplot(data=data, x='length', bins=20, kde=True, color='blue')\n",
    "\n",
    "plt.xlabel('Length', fontsize=14, fontweight='bold')\n",
    "plt.ylabel('Frequency', fontsize=14, fontweight='bold')\n",
    "plt.title('Distribution of Lengths', fontsize=16, fontweight='bold')"
   ]
  },
  {
   "cell_type": "code",
   "execution_count": 27,
   "id": "40cb80ed",
   "metadata": {
    "scrolled": true
   },
   "outputs": [
    {
     "data": {
      "text/html": [
       "<div>\n",
       "<style scoped>\n",
       "    .dataframe tbody tr th:only-of-type {\n",
       "        vertical-align: middle;\n",
       "    }\n",
       "\n",
       "    .dataframe tbody tr th {\n",
       "        vertical-align: top;\n",
       "    }\n",
       "\n",
       "    .dataframe thead th {\n",
       "        text-align: right;\n",
       "    }\n",
       "</style>\n",
       "<table border=\"1\" class=\"dataframe\">\n",
       "  <thead>\n",
       "    <tr style=\"text-align: right;\">\n",
       "      <th></th>\n",
       "      <th>ID</th>\n",
       "      <th>TITLE</th>\n",
       "      <th>GENRE</th>\n",
       "      <th>DESCRIPTION</th>\n",
       "      <th>length</th>\n",
       "    </tr>\n",
       "  </thead>\n",
       "  <tbody>\n",
       "    <tr>\n",
       "      <th>0</th>\n",
       "      <td>1</td>\n",
       "      <td>Oscar et la dame rose (2009)</td>\n",
       "      <td>drama</td>\n",
       "      <td>Listening in to a conversation between his do...</td>\n",
       "      <td>546</td>\n",
       "    </tr>\n",
       "    <tr>\n",
       "      <th>1</th>\n",
       "      <td>2</td>\n",
       "      <td>Cupid (1997)</td>\n",
       "      <td>thriller</td>\n",
       "      <td>A brother and sister with a past incestuous r...</td>\n",
       "      <td>184</td>\n",
       "    </tr>\n",
       "    <tr>\n",
       "      <th>2</th>\n",
       "      <td>3</td>\n",
       "      <td>Young, Wild and Wonderful (1980)</td>\n",
       "      <td>adult</td>\n",
       "      <td>As the bus empties the students for their fie...</td>\n",
       "      <td>650</td>\n",
       "    </tr>\n",
       "    <tr>\n",
       "      <th>3</th>\n",
       "      <td>4</td>\n",
       "      <td>The Secret Sin (1915)</td>\n",
       "      <td>drama</td>\n",
       "      <td>To help their unemployed father make ends mee...</td>\n",
       "      <td>1082</td>\n",
       "    </tr>\n",
       "    <tr>\n",
       "      <th>4</th>\n",
       "      <td>5</td>\n",
       "      <td>The Unrecovered (2007)</td>\n",
       "      <td>drama</td>\n",
       "      <td>The film's title refers not only to the un-re...</td>\n",
       "      <td>625</td>\n",
       "    </tr>\n",
       "  </tbody>\n",
       "</table>\n",
       "</div>"
      ],
      "text/plain": [
       "   ID                               TITLE       GENRE  \\\n",
       "0   1       Oscar et la dame rose (2009)       drama    \n",
       "1   2                       Cupid (1997)    thriller    \n",
       "2   3   Young, Wild and Wonderful (1980)       adult    \n",
       "3   4              The Secret Sin (1915)       drama    \n",
       "4   5             The Unrecovered (2007)       drama    \n",
       "\n",
       "                                         DESCRIPTION  length  \n",
       "0   Listening in to a conversation between his do...     546  \n",
       "1   A brother and sister with a past incestuous r...     184  \n",
       "2   As the bus empties the students for their fie...     650  \n",
       "3   To help their unemployed father make ends mee...    1082  \n",
       "4   The film's title refers not only to the un-re...     625  "
      ]
     },
     "execution_count": 27,
     "metadata": {},
     "output_type": "execute_result"
    }
   ],
   "source": [
    "data.head()"
   ]
  },
  {
   "cell_type": "code",
   "execution_count": 28,
   "id": "0ba8a1e6",
   "metadata": {},
   "outputs": [],
   "source": [
    "tfidf_vectorizer = TfidfVectorizer(max_features=1000)  \n",
    "tfidf_matrix = tfidf_vectorizer.fit_transform(data['DESCRIPTION'])\n"
   ]
  },
  {
   "cell_type": "code",
   "execution_count": 29,
   "id": "c13ba4b0",
   "metadata": {},
   "outputs": [],
   "source": [
    "X = tfidf_matrix\n",
    "y = data['GENRE']\n",
    "\n",
    "X_train, X_test, y_train, y_test = train_test_split(X, y, test_size=0.2, random_state=42)\n"
   ]
  },
  {
   "cell_type": "code",
   "execution_count": 30,
   "id": "ead9d7d4",
   "metadata": {},
   "outputs": [
    {
     "name": "stdout",
     "output_type": "stream",
     "text": [
      "Accuracy of Logistic Regression model: 55.2\n"
     ]
    },
    {
     "name": "stderr",
     "output_type": "stream",
     "text": [
      "C:\\Users\\Nikita\\anaconda3\\lib\\site-packages\\sklearn\\linear_model\\_logistic.py:460: ConvergenceWarning: lbfgs failed to converge (status=1):\n",
      "STOP: TOTAL NO. of ITERATIONS REACHED LIMIT.\n",
      "\n",
      "Increase the number of iterations (max_iter) or scale the data as shown in:\n",
      "    https://scikit-learn.org/stable/modules/preprocessing.html\n",
      "Please also refer to the documentation for alternative solver options:\n",
      "    https://scikit-learn.org/stable/modules/linear_model.html#logistic-regression\n",
      "  n_iter_i = _check_optimize_result(\n"
     ]
    }
   ],
   "source": [
    "# Import library for Accuracy score\n",
    "from sklearn.metrics import accuracy_score\n",
    "\n",
    "# Import library for Logistic Regression\n",
    "from sklearn.linear_model import LogisticRegression\n",
    "\n",
    "# Initialize the logistic Regression Classifier\n",
    "logisreg=LogisticRegression()\n",
    "\n",
    "# Train the model using Training Dataset\n",
    "logisreg.fit(X_train,y_train)\n",
    "\n",
    "# Prediction output using test data\n",
    "y_pred=logisreg.predict(X_test)\n",
    "\n",
    "# Calculate model accuracy by comparing y_test and y_pred\n",
    "acc_logisreg=round(accuracy_score(y_test,y_pred)*100,2)\n",
    "print('Accuracy of Logistic Regression model:',acc_logisreg)"
   ]
  },
  {
   "cell_type": "code",
   "execution_count": null,
   "id": "a94f51fc",
   "metadata": {},
   "outputs": [],
   "source": []
  }
 ],
 "metadata": {
  "kernelspec": {
   "display_name": "Python 3 (ipykernel)",
   "language": "python",
   "name": "python3"
  },
  "language_info": {
   "codemirror_mode": {
    "name": "ipython",
    "version": 3
   },
   "file_extension": ".py",
   "mimetype": "text/x-python",
   "name": "python",
   "nbconvert_exporter": "python",
   "pygments_lexer": "ipython3",
   "version": "3.9.13"
  }
 },
 "nbformat": 4,
 "nbformat_minor": 5
}
